{
 "cells": [
  {
   "cell_type": "markdown",
   "metadata": {},
   "source": [
    "## 环境准备（Windows系统）\n",
    "### Step 1：安装opencv的python库\n",
    "**pip install opencv-python**\n",
    "### Step 2：（可选，使用GPU加速OCR过程的推理）安装CUDA\n",
    "支持CUDA版本：12.0/11.8/11.7/11.6/11.2/10.2\n",
    "CUDA 11.7下载地址：https://developer.nvidia.com/cuda-11-7-0-download-archive\n",
    "### Step 3：安装PaddlePaddle\n",
    "从这个网站获取安装命令：https://www.paddlepaddle.org.cn/install/quick?docurl=/documentation/docs/zh/install/pip/windows-pip.html\n",
    "### Step 4：安装PaddleOCR\n",
    "**pip install \"paddleocr>=2.0.1\"**"
   ]
  },
  {
   "cell_type": "markdown",
   "metadata": {},
   "source": [
    "## 无损提取pdf中的图像可用extract.py\n",
    "将需要被提取的pdf文件放入original_pdf文件夹  \n",
    "输出图片将存入extract_img文件夹"
   ]
  },
  {
   "cell_type": "code",
   "execution_count": null,
   "metadata": {},
   "outputs": [],
   "source": [
    "# 示例\n",
    "!python extract.py -i \"test.pdf\""
   ]
  },
  {
   "cell_type": "markdown",
   "metadata": {},
   "source": [
    "**-i：输入pdf的文件名（带后缀）**"
   ]
  },
  {
   "cell_type": "markdown",
   "metadata": {},
   "source": [
    "## 使用教程\n",
    "将需要进行推理的图片放入input文件夹  \n",
    "输出图片将存入output文件夹"
   ]
  },
  {
   "cell_type": "code",
   "execution_count": null,
   "metadata": {},
   "outputs": [],
   "source": [
    "# 示例\n",
    "!python main.py -i \"test_280.png\" -o \"test_280_output.png\""
   ]
  },
  {
   "cell_type": "markdown",
   "metadata": {},
   "source": [
    "**-i：输入图片的文件名（带后缀）**  \n",
    "**-o：输出图片的文件名（带后缀）**"
   ]
  },
  {
   "cell_type": "markdown",
   "metadata": {},
   "source": [
    "## 批量处理\n",
    "使用run_in_batches.py  \n",
    "将需要进行推理的图片放入input文件夹，命名规则为\"前缀_序号.png\"  \n",
    "输出图片将存入output文件夹，命名规则为\"前缀_序号_后缀.png\""
   ]
  },
  {
   "cell_type": "code",
   "execution_count": null,
   "metadata": {},
   "outputs": [],
   "source": [
    "# 示例\n",
    "!python run_in_batches.py -i \"test\" -o \"output\" -s 40 -e 430"
   ]
  },
  {
   "cell_type": "markdown",
   "metadata": {},
   "source": [
    "**-i：输入图片的文件名前缀**  \n",
    "**-o：输出图片的文件名后缀**  \n",
    "**-s：输入图片起始序号**  \n",
    "**-e：输入图片终止序号**"
   ]
  },
  {
   "cell_type": "markdown",
   "metadata": {},
   "source": [
    "## 程序思路介绍\n",
    "分别找到逻辑图的每一个（线段的）起点、终点、节点，然后为每一个起点配对唯一的终点（或者起点），每一个终点配对唯一的起点（或者起点），相连的节点之间相互配对  \n",
    "运算符匹配输入其的终点及其输出的起点  \n",
    "识别到的文字按照规则配对到起点、终点或者运算符"
   ]
  },
  {
   "cell_type": "markdown",
   "metadata": {},
   "source": [
    "## 程序输出内容介绍\n",
    "### main.py文件将生成8个list，分别是：\n",
    "### StartPointList：所有起点的集合。其中的成员具有如下属性：\n",
    "    ifMatch：bool类型，被配对则为True，否则为False\n",
    "    x：横坐标\n",
    "    y：纵坐标\n",
    "    xm：其配对的终点或节点的横坐标\n",
    "    ym：其配对的终点或节点的纵坐标\n",
    "    type：点的类型，固定为字符\"S\"\n",
    "    num_word：与其绑定的的文字的数量（不是文字的字符数量，可以理解为单词数量）\n",
    "    arr_word：list类型，其中包含所有被其绑定的文字的坐标及文字内容，其成员为如下格式：\n",
    "        (word_x1,word_y1,word_x2,word_y2,word_content) 分别为（左上角横坐标，左上角纵坐标，右下角横坐标，右下角纵坐标，文字内容）\n",
    "### EndPointList：所有终点的集合。其中的成员具有如下属性：\n",
    "    ifMatch：bool类型，被配对则为True，否则为False\n",
    "    x：横坐标\n",
    "    y：纵坐标\n",
    "    xm：其配对的起点或节点的横坐标\n",
    "    ym：其配对的起点或节点的纵坐标\n",
    "    type：点的类型，固定为字符\"E\"\n",
    "    num_word：与其绑定的的文字的数量（不是文字的字符数量，可以理解为单词数量）\n",
    "    arr_word：list类型，其中包含所有被其绑定的文字的坐标及文字内容，其成员为如下格式：\n",
    "        (word_x1,word_y1,word_x2,word_y2,word_content) 分别为（左上角横坐标，左上角纵坐标，右下角横坐标，右下角纵坐标，文字内容）\n",
    "### NodeList：所有节点的集合。其中的成员具有如下属性：\n",
    "    x：横坐标\n",
    "    y：纵坐标\n",
    "    type：点的类型，固定为字符\"N\"\n",
    "    numNode：与其相连的节点的个数\n",
    "    arrNode：list类型，其中包含所有与其相连的节点的坐标，其成员为如下格式：\n",
    "        (xm,ym) 分别为（与其相连的节点的横坐标，与其相连的节点的纵坐标）\n",
    "**以下（numStart、numEnd、arrStart、arrEnd）为新增属性**\n",
    "\n",
    "    numStart：与其相连的起点的个数\n",
    "    numEnd：与其相连的终点的个数\n",
    "    arrStart：list类型，其中包含所有与其相连的起点的坐标，其成员为如下格式：\n",
    "        (xm,ym) 分别为（与其相连的起点的横坐标，与其相连的起点的纵坐标）\n",
    "    arrEnd：list类型，其中包含所有与其相连的终点的坐标，其成员为如下格式：\n",
    "        (xm,ym) 分别为（与其相连的终点的横坐标，与其相连的终点的纵坐标）\n",
    "### OperatorList：所有运算符的集合。其中的成员具有如下属性：\n",
    "    x：横坐标\n",
    "    y：纵坐标\n",
    "    type：点的类型，固定为字符\"O\"\n",
    "    optype：str类型，表示运算符的类型\n",
    "    num_Start，与其配对的起点的数量\n",
    "    num_End，与其配对的终点的数量\n",
    "    num_word，与其配对的文字的数量（不是文字的字符数量，可以理解为单词数量）\n",
    "    arr_Start，list类型，其中包含所有与其配对的起点的坐标，其成员为如下格式：\n",
    "        (xm,ym) 分别为（与其配对的起点的横坐标，与其配对的起点的纵坐标）\n",
    "    arr_End，list类型，其中包含所有与其配对的终点的坐标，其成员为如下格式：\n",
    "        (xm,ym) 分别为（与其配对的终点的横坐标，与其配对的终点的纵坐标）\n",
    "    arr_word，list类型，其中包含所有与其配对的文字的坐标及文字内容，其成员为如下格式：\n",
    "        (word_x1,word_y1,word_x2,word_y2,word_content)分别为（左上角横坐标，左上角纵坐标，右下角横坐标，右下角纵坐标，文字内容）\n",
    "**新增属性**\n",
    "\n",
    "    attribute，str类型，部分运算符具有，描述该运算符的关键属性，例如T1=5s，则attribute=\"5s\"\n",
    "    if_triangle，bool类型，该运算符右下角是否有黑色三角，有则为True，无则为False\n",
    "\n",
    "**具体optype请查看./package/operatorkeyword.py，其中字典的key即为optype（此外还有inv表示反转器）**\n",
    "\n",
    "## **以下为新增list**\n",
    "\n",
    "### 首先解释一种数组，是OCR得到的文字的格式，将其记作line类型\n",
    "    line[1][0]为str类型，是文字内容\n",
    "    int(line[0][0][0])为该文字左上角横坐标x1\n",
    "    int(line[0][0][1])为该文字左上角纵坐标y1\n",
    "    int(line[0][2][0])为该文字右下角横坐标x2\n",
    "    int(line[0][2][1])为该文字左上角纵坐标y2\n",
    "**另外，将StartPointList/EndPointList成员的类型记作sore类型**\n",
    "### RoundedRCList：4圆角矩形功能块的集合。其中的成员具有如下属性：\n",
    "    x1:功能块左上角横坐标\n",
    "    y1:功能块左上角纵坐标\n",
    "    x2:功能块右下角横坐标\n",
    "    y2:功能块右下角纵坐标\n",
    "    type：int类型，取值为1、2、3。type1为单列，type2/3复杂，type2中间的字是横着的，type3中间中间的字是竖着的\n",
    "    title：line类型，功能块最上面的一行字\n",
    "**接下来的属性需按type分类**\n",
    "\n",
    "    对于type == 1：\n",
    "    word_list：list类型，其中包含功能块除title外的文字，成员均为line格式（有序，word_list[0]对应最上面一行的文字，依次下排）\n",
    "    end_list：list类型，其中包含所有接入功能块的终点的坐标，其成员格式为：(end_i,w)\n",
    "        end_i为sore类型，是接入功能块的终点\n",
    "        w为line类型，是与该终点接入的部分的文字\n",
    "    start_list：list类型，其中包含所有功能块接出的起点的坐标，其成员格式为：(start_i,w)，类型与end_list相同\n",
    "    对于type == 2 or type ==3：\n",
    "    left_list：list类型，其中包含功能块左侧的文字，成员均为line格式（有序，left_list[0]对应最上面一行的文字，依次下排）\n",
    "    right_list:list类型，其中包含功能块右侧的文字，成员均为line格式（有序，right_list[0]对应最上面一行的文字，依次下排）\n",
    "    bottom_list：list类型，其中包含功能块底部的文字，成员均为line格式（有序，bottom_list[0]对应最上面一行的文字，依次下排）\n",
    "    middle：line类型，是该功能块中部的文字\n",
    "    end_list：list类型，其中包含所有接入功能块的终点的坐标，其成员格式为：(end_i,l)\n",
    "        end_i为sore类型，是接入功能块的终点\n",
    "        l为line类型，是与该终点接入的功能块左侧的文字\n",
    "    start_list：list类型，其中包含所有功能块接出的起点的坐标，其成员格式为：(start_i,r)\n",
    "        start_i为sore类型，是功能块接出的起点\n",
    "        r为line类型，是接出该起点的功能块右侧的文字\n",
    "\n",
    "### RoundedTwoRCList：2圆角矩形功能块的集合。其中的成员具有如下属性：\n",
    "    x1：功能块左上角横坐标\n",
    "    y1：功能块左上角纵坐标\n",
    "**x2，y2与4圆角矩形功能块中的含义不同**\n",
    "\n",
    "    x2：功能块最上面的2圆角方块的右下角横坐标\n",
    "    y2：功能块最上面的2圆角方块的右下角纵坐标\n",
    "    title：line类型，功能块最上面的一行字\n",
    "    word_list：list类型，包含功能块除title外的文字，成员格式为：(word,rectangle)。（该list有序，word_list[0]对应最上面一行的文字，依次下排）\n",
    "        word为line类型的文字\n",
    "        rectangle不需了解\n",
    "        如需调用该list第i个元素，建议直接使用word_list[i-1][0]调用word部分即可\n",
    "    start_list：同RoundedRCList的type1的start_list\n",
    "### RectangleABList：矩形功能块的集合。其中的成员具有如下属性：\n",
    "    x1：功能块左上角横坐标\n",
    "    y1：功能块左上角纵坐标\n",
    "**x2，y2与4圆角矩形功能块中的含义不同，与2圆角矩形功能块相同**\n",
    "\n",
    "    x2：功能块最上面的矩形的右下角横坐标\n",
    "    y2：功能块最上面的矩形的右下角纵坐标\n",
    "    title：line类型，功能块最上面的一行字\n",
    "    left_list：list类型，其中包含功能块左侧的文字，成员格式为：(word,rectangle)，同RoundedTwoRCList的word_list\n",
    "    right_list：list类型，其中包含功能块右侧的文字，成员格式为：(word,rectangle)，同RoundedTwoRCList的word_list\n",
    "    start_list：同RoundedRCList的type2/3的start_list\n",
    "### CircleList：虚线圆/实线圆/六边形/终点箭头/操场形的集合。其中的成员具有如下属性：\n",
    "    x：圆心横坐标\n",
    "    y：圆形纵坐标\n",
    "    r：圆形半径/六边形边长（type4/5该属性为-1）\n",
    "    name：圆内的文字，line类型\n",
    "    type：int类型，1表示虚线圆，2表示实线圆，3表示六边形，4表示终点箭头，5表示操场形\n",
    "    if_start：bool类型，True表示与起点相连，False表示与终点相连\n",
    "    linked_point：sore类型，与其相连的起点/终点\n",
    "    word_list：list类型，与其相关的文字，内容为line类型，暂为乱序\n",
    "    rectangle：list类型，仅type4/5具有，为其最小外接矩形\n",
    "        rectangle[0]、rectangle[1]、rectangle[2]、rectangle[3]分别为矩形左上角横坐标、左上角纵坐标、右下角横坐标、右下角纵坐标\n",
    "\n",
    "**以上8个list均可在main.py程序运行完成后导出到别的程序中，用于制作Demo**"
   ]
  },
  {
   "cell_type": "markdown",
   "metadata": {},
   "source": [
    "## 输出图片介绍\n",
    "在原图中，以圆点表示识别到的起点/终点/节点，颜色相同者表示相连  \n",
    "以运算符字符类型表示识别到的运算符，字符上下的数字分别表示其输入输出的个数  \n",
    "识别到的文字与配对到的起点/终点/运算符颜色相同"
   ]
  }
 ],
 "metadata": {
  "language_info": {
   "name": "python"
  },
  "orig_nbformat": 4
 },
 "nbformat": 4,
 "nbformat_minor": 2
}
